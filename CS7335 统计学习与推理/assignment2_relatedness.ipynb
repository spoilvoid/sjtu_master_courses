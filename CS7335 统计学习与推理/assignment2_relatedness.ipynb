{
 "cells": [
  {
   "cell_type": "code",
   "execution_count": 34,
   "metadata": {},
   "outputs": [],
   "source": [
    "import os\n",
    "import sys\n",
    "import random\n",
    "import pickle\n",
    "import numpy as np\n",
    "import pandas as pd\n",
    "import scipy.io as scio\n",
    "import matplotlib.pyplot as plt\n",
    "\n",
    "from tqdm import tqdm\n",
    "from sklearn.linear_model import LogisticRegression\n",
    "from sklearn.metrics.pairwise import cosine_similarity, euclidean_distances\n",
    "\n",
    "import torch\n",
    "import torch.nn as nn\n",
    "import torch.nn.functional as F\n",
    "import torch.nn.init as init"
   ]
  },
  {
   "cell_type": "code",
   "execution_count": 35,
   "metadata": {},
   "outputs": [],
   "source": [
    "def seed_all(seed: int):\n",
    "    random.seed(seed)\n",
    "    np.random.seed(seed)\n",
    "\n",
    "seed = 42\n",
    "seed_all(seed)"
   ]
  },
  {
   "cell_type": "code",
   "execution_count": 36,
   "metadata": {},
   "outputs": [],
   "source": [
    "# 输入特征的读取\n",
    "feature_path = \"AWA2/split/res101.mat\"\n",
    "feature_data = scio.loadmat(feature_path)\n",
    "features = feature_data['features'].transpose(1,0)\n",
    "labels = feature_data['labels'].reshape(-1)\n",
    "\n",
    "# {类label:类名}字典读取\n",
    "classes_path = 'AWA2/classes.txt'\n",
    "# key is label name, value is label id\n",
    "class_dict = pd.read_csv(classes_path, sep='\\t', header=None).set_index(1)[0].to_dict()\n",
    "\n",
    "# 训练/验证类label读取\n",
    "trainval_classes_path = 'AWA2/split/trainvalclasses.txt'\n",
    "trainval_names = pd.read_csv(trainval_classes_path, header=None)[0].to_list()\n",
    "trainval_values = [class_dict[name] for name in trainval_names]\n",
    "\n",
    "# 测试类label读取\n",
    "test_classes_path = 'AWA2/split/testclasses.txt'\n",
    "test_names = pd.read_csv(test_classes_path, header=None)[0].to_list()\n",
    "test_values = [class_dict[name] for name in test_names]\n",
    "\n",
    "# 训练集与测试集features划分\n",
    "trainval_indices, test_indices = [], []\n",
    "for idx, label in enumerate(labels):\n",
    "    if label in trainval_values:\n",
    "        trainval_indices.append(idx)\n",
    "    else:\n",
    "        test_indices.append(idx)\n",
    "trainval_features = features[trainval_indices]\n",
    "test_features = features[test_indices]\n",
    "trainval_labels = labels[trainval_indices]\n",
    "test_labels = labels[test_indices]\n",
    "trainval_features = np.array(trainval_features)\n",
    "test_features = np.array(test_features)\n",
    "trainval_labels = np.array(trainval_labels)\n",
    "test_labels = np.array(test_labels)"
   ]
  },
  {
   "cell_type": "code",
   "execution_count": 37,
   "metadata": {},
   "outputs": [],
   "source": [
    "# 计算相似度矩阵，对称矩阵，所以取(i,j)还是(j,i)无所谓\n",
    "attribute_path = \"AWA2/split/att_splits.mat\"\n",
    "attribute_data = scio.loadmat(attribute_path)\n",
    "attributes = attribute_data['att'].transpose(1,0)\n",
    "similarity_matrix = cosine_similarity(attributes)\n",
    "# similarity_matrix = 1 / euclidean_distances(attributes)"
   ]
  },
  {
   "cell_type": "code",
   "execution_count": 38,
   "metadata": {},
   "outputs": [
    {
     "name": "stdout",
     "output_type": "stream",
     "text": [
      "train killer+whale category classifier\n",
      "train beaver category classifier\n",
      "train dalmatian category classifier\n",
      "train persian+cat category classifier\n",
      "train german+shepherd category classifier\n",
      "train siamese+cat category classifier\n",
      "train skunk category classifier\n",
      "train mole category classifier\n",
      "train tiger category classifier\n",
      "train hippopotamus category classifier\n",
      "train leopard category classifier\n",
      "train spider+monkey category classifier\n",
      "train elephant category classifier\n",
      "train gorilla category classifier\n",
      "train ox category classifier\n",
      "train chimpanzee category classifier\n",
      "train hamster category classifier\n",
      "train fox category classifier\n",
      "train squirrel category classifier\n",
      "train rabbit category classifier\n",
      "train wolf category classifier\n",
      "train chihuahua category classifier\n",
      "train weasel category classifier\n",
      "train otter category classifier\n",
      "train buffalo category classifier\n",
      "train zebra category classifier\n",
      "train giant+panda category classifier\n",
      "train pig category classifier\n",
      "train lion category classifier\n",
      "train polar+bear category classifier\n",
      "train collie category classifier\n",
      "train cow category classifier\n",
      "train deer category classifier\n",
      "train mouse category classifier\n",
      "train humpback+whale category classifier\n",
      "train antelope category classifier\n",
      "train grizzly+bear category classifier\n",
      "train rhinoceros category classifier\n",
      "train raccoon category classifier\n",
      "train moose category classifier\n"
     ]
    }
   ],
   "source": [
    "# 为所有seen category训练一个binary classifier\n",
    "model_list = []\n",
    "for name in trainval_names:\n",
    "    print(f'train {name} category classifier')\n",
    "    # 首先将标签变为0、1标签\n",
    "    positive_label = class_dict[name]\n",
    "    binary_trainval_labels = [1 if label==positive_label else 0 for label in trainval_labels]\n",
    "    binary_trainval_labels = np.array(binary_trainval_labels)\n",
    "\n",
    "    # 定义binary classifier并训练\n",
    "    binary_model = LogisticRegression(max_iter=10000)\n",
    "    binary_model.fit(trainval_features, binary_trainval_labels)\n",
    "    with open(os.path.join('models_2', name+'.pickle'), 'wb') as f:\n",
    "        pickle.dump(binary_model, f)\n",
    "    # predictions = binary_model.predict(trainval_features)\n",
    "    # print(\"len:\", len(binary_trainval_labels),\"acc count:\", (binary_trainval_labels==predictions).sum())\n",
    "    model_list.append(binary_model)"
   ]
  },
  {
   "cell_type": "code",
   "execution_count": 39,
   "metadata": {},
   "outputs": [],
   "source": [
    "# 计算seen category的binary classifier的结果\n",
    "shape = len(test_labels)\n",
    "seen_pred_dict = {}\n",
    "for value, model in zip(trainval_values, model_list):\n",
    "    predictions = model.predict(test_features)\n",
    "    seen_pred_dict[value] = predictions\n",
    "seen_pred_dict = dict(sorted(seen_pred_dict.items()))\n",
    "\n",
    "# 根据权重计算unseen category的binary classifier结果\n",
    "pred_list = []\n",
    "for test_value in test_values:\n",
    "    pred_sum = np.zeros(shape)\n",
    "    for trainval_value in seen_pred_dict.keys():\n",
    "        pred_sum += similarity_matrix[test_value-1][trainval_value-1] * seen_pred_dict[trainval_value]\n",
    "    pred_list.append(pred_sum)\n",
    "pred_list = np.array(pred_list)\n",
    "\n",
    "result_indices = np.argmax(pred_list, axis=0)\n",
    "results = [test_values[index] for index in result_indices]"
   ]
  },
  {
   "cell_type": "code",
   "execution_count": 40,
   "metadata": {},
   "outputs": [
    {
     "ename": "ValueError",
     "evalue": "attempt to get argmax of an empty sequence",
     "output_type": "error",
     "traceback": [
      "\u001b[0;31m---------------------------------------------------------------------------\u001b[0m",
      "\u001b[0;31mValueError\u001b[0m                                Traceback (most recent call last)",
      "Cell \u001b[0;32mIn[40], line 20\u001b[0m\n\u001b[1;32m     15\u001b[0m     \u001b[38;5;66;03m# for trainval_value in seen_pred_dict.keys():\u001b[39;00m\n\u001b[1;32m     16\u001b[0m     \u001b[38;5;66;03m#     pred_sum += similarity_matrix[test_value-1][trainval_value-1] * seen_pred_dict[trainval_value]\u001b[39;00m\n\u001b[1;32m     17\u001b[0m     \u001b[38;5;66;03m# pred_list.append(pred_sum)\u001b[39;00m\n\u001b[1;32m     18\u001b[0m pred_list \u001b[38;5;241m=\u001b[39m np\u001b[38;5;241m.\u001b[39marray(pred_list)\n\u001b[0;32m---> 20\u001b[0m result_indices \u001b[38;5;241m=\u001b[39m \u001b[43mnp\u001b[49m\u001b[38;5;241;43m.\u001b[39;49m\u001b[43margmax\u001b[49m\u001b[43m(\u001b[49m\u001b[43mpred_list\u001b[49m\u001b[43m,\u001b[49m\u001b[43m \u001b[49m\u001b[43maxis\u001b[49m\u001b[38;5;241;43m=\u001b[39;49m\u001b[38;5;241;43m0\u001b[39;49m\u001b[43m)\u001b[49m\n\u001b[1;32m     21\u001b[0m results \u001b[38;5;241m=\u001b[39m [test_values[index] \u001b[38;5;28;01mfor\u001b[39;00m index \u001b[38;5;129;01min\u001b[39;00m result_indices]\n",
      "File \u001b[0;32m~/anaconda3/envs/basic/lib/python3.11/site-packages/numpy/core/fromnumeric.py:1229\u001b[0m, in \u001b[0;36margmax\u001b[0;34m(a, axis, out, keepdims)\u001b[0m\n\u001b[1;32m   1142\u001b[0m \u001b[38;5;250m\u001b[39m\u001b[38;5;124;03m\"\"\"\u001b[39;00m\n\u001b[1;32m   1143\u001b[0m \u001b[38;5;124;03mReturns the indices of the maximum values along an axis.\u001b[39;00m\n\u001b[1;32m   1144\u001b[0m \n\u001b[0;32m   (...)\u001b[0m\n\u001b[1;32m   1226\u001b[0m \u001b[38;5;124;03m(2, 1, 4)\u001b[39;00m\n\u001b[1;32m   1227\u001b[0m \u001b[38;5;124;03m\"\"\"\u001b[39;00m\n\u001b[1;32m   1228\u001b[0m kwds \u001b[38;5;241m=\u001b[39m {\u001b[38;5;124m'\u001b[39m\u001b[38;5;124mkeepdims\u001b[39m\u001b[38;5;124m'\u001b[39m: keepdims} \u001b[38;5;28;01mif\u001b[39;00m keepdims \u001b[38;5;129;01mis\u001b[39;00m \u001b[38;5;129;01mnot\u001b[39;00m np\u001b[38;5;241m.\u001b[39m_NoValue \u001b[38;5;28;01melse\u001b[39;00m {}\n\u001b[0;32m-> 1229\u001b[0m \u001b[38;5;28;01mreturn\u001b[39;00m \u001b[43m_wrapfunc\u001b[49m\u001b[43m(\u001b[49m\u001b[43ma\u001b[49m\u001b[43m,\u001b[49m\u001b[43m \u001b[49m\u001b[38;5;124;43m'\u001b[39;49m\u001b[38;5;124;43margmax\u001b[39;49m\u001b[38;5;124;43m'\u001b[39;49m\u001b[43m,\u001b[49m\u001b[43m \u001b[49m\u001b[43maxis\u001b[49m\u001b[38;5;241;43m=\u001b[39;49m\u001b[43maxis\u001b[49m\u001b[43m,\u001b[49m\u001b[43m \u001b[49m\u001b[43mout\u001b[49m\u001b[38;5;241;43m=\u001b[39;49m\u001b[43mout\u001b[49m\u001b[43m,\u001b[49m\u001b[43m \u001b[49m\u001b[38;5;241;43m*\u001b[39;49m\u001b[38;5;241;43m*\u001b[39;49m\u001b[43mkwds\u001b[49m\u001b[43m)\u001b[49m\n",
      "File \u001b[0;32m~/anaconda3/envs/basic/lib/python3.11/site-packages/numpy/core/fromnumeric.py:59\u001b[0m, in \u001b[0;36m_wrapfunc\u001b[0;34m(obj, method, *args, **kwds)\u001b[0m\n\u001b[1;32m     56\u001b[0m     \u001b[38;5;28;01mreturn\u001b[39;00m _wrapit(obj, method, \u001b[38;5;241m*\u001b[39margs, \u001b[38;5;241m*\u001b[39m\u001b[38;5;241m*\u001b[39mkwds)\n\u001b[1;32m     58\u001b[0m \u001b[38;5;28;01mtry\u001b[39;00m:\n\u001b[0;32m---> 59\u001b[0m     \u001b[38;5;28;01mreturn\u001b[39;00m \u001b[43mbound\u001b[49m\u001b[43m(\u001b[49m\u001b[38;5;241;43m*\u001b[39;49m\u001b[43margs\u001b[49m\u001b[43m,\u001b[49m\u001b[43m \u001b[49m\u001b[38;5;241;43m*\u001b[39;49m\u001b[38;5;241;43m*\u001b[39;49m\u001b[43mkwds\u001b[49m\u001b[43m)\u001b[49m\n\u001b[1;32m     60\u001b[0m \u001b[38;5;28;01mexcept\u001b[39;00m \u001b[38;5;167;01mTypeError\u001b[39;00m:\n\u001b[1;32m     61\u001b[0m     \u001b[38;5;66;03m# A TypeError occurs if the object does have such a method in its\u001b[39;00m\n\u001b[1;32m     62\u001b[0m     \u001b[38;5;66;03m# class, but its signature is not identical to that of NumPy's. This\u001b[39;00m\n\u001b[0;32m   (...)\u001b[0m\n\u001b[1;32m     66\u001b[0m     \u001b[38;5;66;03m# Call _wrapit from within the except clause to ensure a potential\u001b[39;00m\n\u001b[1;32m     67\u001b[0m     \u001b[38;5;66;03m# exception has a traceback chain.\u001b[39;00m\n\u001b[1;32m     68\u001b[0m     \u001b[38;5;28;01mreturn\u001b[39;00m _wrapit(obj, method, \u001b[38;5;241m*\u001b[39margs, \u001b[38;5;241m*\u001b[39m\u001b[38;5;241m*\u001b[39mkwds)\n",
      "\u001b[0;31mValueError\u001b[0m: attempt to get argmax of an empty sequence"
     ]
    }
   ],
   "source": [
    "# 计算seen category的binary classifier的结果\n",
    "shape = len(test_labels)\n",
    "seen_pred_dict = {}\n",
    "for value, model in zip(trainval_values, model_list):\n",
    "    predictions = model.predict(test_features)\n",
    "    seen_pred_dict[value] = predictions\n",
    "# 根据权重计算unseen category的binary classifier结果\n",
    "pred_list = []\n",
    "for test_value in test_values:\n",
    "    pred_sum = np.zeros(shape)\n",
    "    similarity_vector = similarity_matrix[test_value-1][np.array(list(seen_pred_dict.keys()))-1]\n",
    "    normalized_weight = similarity_vector / np.linalg.norm(similarity_vector)\n",
    "    for idx, trainval_value in enumerate(seen_pred_dict.keys()):\n",
    "        pred_sum += normalized_weight[idx] * seen_pred_dict[trainval_value]\n",
    "    # for trainval_value in seen_pred_dict.keys():\n",
    "    #     pred_sum += similarity_matrix[test_value-1][trainval_value-1] * seen_pred_dict[trainval_value]\n",
    "    # pred_list.append(pred_sum)\n",
    "pred_list = np.array(pred_list)\n",
    "\n",
    "result_indices = np.argmax(pred_list, axis=0)\n",
    "results = [test_values[index] for index in result_indices]"
   ]
  },
  {
   "cell_type": "code",
   "execution_count": null,
   "metadata": {},
   "outputs": [
    {
     "name": "stdout",
     "output_type": "stream",
     "text": [
      "acc count: 2444\n",
      "acc count: 7913\n",
      "acc: {23: 973, 50: 0, 30: 0, 24: 280, 9: 170, 34: 166, 7: 739, 47: 11, 31: 2, 41: 103}\n",
      "test: {23: 1420, 50: 946, 30: 383, 24: 988, 9: 174, 34: 310, 7: 1645, 47: 215, 31: 1202, 41: 630}\n"
     ]
    },
    {
     "data": {
      "text/plain": [
       "([0, 1, 2, 3, 4, 5, 6, 7, 8, 9],\n",
       " [Text(0, 0, 'sheep'),\n",
       "  Text(1, 0, 'dolphin'),\n",
       "  Text(2, 0, 'bat'),\n",
       "  Text(3, 0, 'seal'),\n",
       "  Text(4, 0, 'blue+whale'),\n",
       "  Text(5, 0, 'rat'),\n",
       "  Text(6, 0, 'horse'),\n",
       "  Text(7, 0, 'walrus'),\n",
       "  Text(8, 0, 'giraffe'),\n",
       "  Text(9, 0, 'bobcat')])"
      ]
     },
     "execution_count": 33,
     "metadata": {},
     "output_type": "execute_result"
    },
    {
     "data": {
      "image/png": "[encoded data removed]",
      "text/plain": [
       "<Figure size 640x480 with 1 Axes>"
      ]
     },
     "metadata": {},
     "output_type": "display_data"
    }
   ],
   "source": [
    "print(\"acc count:\", (results==test_labels).sum())\n",
    "print(\"acc count:\", len(test_labels))\n",
    "acc_dict, test_dict = {}, {}\n",
    "for test_value in test_values:\n",
    "    acc_dict[test_value] = test_dict[test_value] = 0\n",
    "for pred, value in zip(results, test_labels):\n",
    "    test_dict[value] += 1\n",
    "    if pred == value:\n",
    "        acc_dict[value] += 1\n",
    "\n",
    "print(\"acc:\", acc_dict)\n",
    "print(\"test:\", test_dict)\n",
    "\n",
    "rate = []\n",
    "acc_count = 0\n",
    "for value in test_values:\n",
    "    rate.append(acc_dict[value]/test_dict[value])\n",
    "    acc_count += acc_dict[value]\n",
    "canvas = plt.figure()\n",
    "plt.cla()\n",
    "plt.bar(test_names, rate)\n",
    "plt.ylim(0,1)\n",
    "plt.xticks(rotation=90)\n",
    "\n"
   ]
  }
 ],
 "metadata": {
  "kernelspec": {
   "display_name": "basic",
   "language": "python",
   "name": "python3"
  },
  "language_info": {
   "codemirror_mode": {
    "name": "ipython",
    "version": 3
   },
   "file_extension": ".py",
   "mimetype": "text/x-python",
   "name": "python",
   "nbconvert_exporter": "python",
   "pygments_lexer": "ipython3",
   "version": "3.11.5"
  }
 },
 "nbformat": 4,
 "nbformat_minor": 2
}
