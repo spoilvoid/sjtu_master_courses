{
 "cells": [
  {
   "cell_type": "code",
   "execution_count": 29,
   "metadata": {},
   "outputs": [],
   "source": [
    "import os\n",
    "import sys\n",
    "import random\n",
    "import pickle\n",
    "import numpy as np\n",
    "import pandas as pd\n",
    "import scipy.io as scio\n",
    "import matplotlib.pyplot as plt\n",
    "\n",
    "from tqdm import tqdm\n",
    "from sklearn.linear_model import LinearRegression, LogisticRegression, Lasso\n",
    "from sklearn.metrics import mean_squared_error\n",
    "from sklearn.utils import shuffle\n",
    "\n",
    "import torch\n",
    "import torch.nn as nn\n",
    "import torch.nn.functional as F\n",
    "import torch.nn.init as init"
   ]
  },
  {
   "cell_type": "code",
   "execution_count": 30,
   "metadata": {},
   "outputs": [],
   "source": [
    "def seed_all(seed: int):\n",
    "    random.seed(seed)\n",
    "    np.random.seed(seed)\n",
    "\n",
    "seed = 42\n",
    "seed_all(seed)"
   ]
  },
  {
   "cell_type": "code",
   "execution_count": 31,
   "metadata": {},
   "outputs": [],
   "source": [
    "# 输入特征的读取\n",
    "feature_path = \"AWA2/split/res101.mat\"\n",
    "feature_data = scio.loadmat(feature_path)\n",
    "features = feature_data['features'].transpose(1,0)\n",
    "labels = feature_data['labels'].reshape(-1)\n",
    "\n",
    "# {类label:类名}字典读取\n",
    "classes_path = 'AWA2/classes.txt'\n",
    "# key is label name, value is label id\n",
    "class_dict = pd.read_csv(classes_path, sep='\\t', header=None).set_index(1)[0].to_dict()\n",
    "\n",
    "# 训练/验证类label读取\n",
    "trainval_classes_path = 'AWA2/split/trainvalclasses.txt'\n",
    "trainval_names = pd.read_csv(trainval_classes_path, header=None)[0].to_list()\n",
    "trainval_values = [class_dict[name] for name in trainval_names]\n",
    "\n",
    "# 测试类label读取\n",
    "test_classes_path = 'AWA2/split/testclasses.txt'\n",
    "test_names = pd.read_csv(test_classes_path, header=None)[0].to_list()\n",
    "test_values = sorted([class_dict[name] for name in test_names])\n",
    "\n",
    "# 训练集与测试集features划分\n",
    "trainval_indices, test_indices = [], []\n",
    "for idx, label in enumerate(labels):\n",
    "    if label in trainval_values:\n",
    "        trainval_indices.append(idx)\n",
    "    else:\n",
    "        test_indices.append(idx)\n",
    "trainval_features = features[trainval_indices]\n",
    "test_features = features[test_indices]\n",
    "trainval_labels = labels[trainval_indices]\n",
    "test_labels = labels[test_indices]\n",
    "trainval_features = np.array(trainval_features)\n",
    "test_features = np.array(test_features)\n",
    "trainval_labels = np.array(trainval_labels)\n",
    "test_labels = np.array(test_labels)\n",
    "test_values = np.array(test_values)"
   ]
  },
  {
   "cell_type": "code",
   "execution_count": 32,
   "metadata": {},
   "outputs": [],
   "source": [
    "# 每一行都是一个category的semantic vector\n",
    "attribute_path = \"AWA2/split/att_splits.mat\"\n",
    "attribute_data = scio.loadmat(attribute_path)\n",
    "attributes = attribute_data['att'].transpose(1,0)\n",
    "\n",
    "gen_num = 1000\n",
    "# 将标签转化为attribute vector,方便后续学习\n",
    "trainval_attributes = attributes[trainval_labels-1]\n",
    "\n",
    "test_attribute_labels = attributes[test_values-1]\n",
    "gen_test_attributes = np.repeat(test_attribute_labels, gen_num, axis=0)\n",
    "gen_test_values = np.repeat(test_values, gen_num, axis=0)\n",
    "gen_test_attributes, gen_test_values = shuffle(gen_test_attributes, gen_test_values)\n",
    "\n",
    "# 对训练attributes额外添加标准高斯噪声，防止输入只有40个而输出过多的问题\n",
    "noise = np.random.normal(0, 1, trainval_attributes.shape)\n",
    "noise_2 = np.random.normal(0, 1, gen_test_attributes.shape)\n",
    "input_trainval_attributes = np.array(trainval_attributes + noise)\n",
    "# input_trainval_attributes = np.array(trainval_attributes)\n",
    "input_test_attributes = np.array(gen_test_attributes)\n",
    "# input_test_attributes = np.array(gen_test_attributes + noise_2)"
   ]
  },
  {
   "cell_type": "code",
   "execution_count": 33,
   "metadata": {},
   "outputs": [],
   "source": [
    "# 倒过来将feature作为数据标签，学习seen category从attribute到feature的映射，产生一个生成器\n",
    "synthetic_generator = LinearRegression()\n",
    "synthetic_generator.fit(input_trainval_attributes, trainval_features)\n",
    "with open(os.path.join('models_2', 'synthetic_generator.pickle'), 'wb') as f:\n",
    "    pickle.dump(synthetic_generator, f)\n",
    "\n",
    "# 用生成器生成unseen category的数据\n",
    "gen_test_features = synthetic_generator.predict(input_test_attributes)"
   ]
  },
  {
   "cell_type": "code",
   "execution_count": 34,
   "metadata": {},
   "outputs": [],
   "source": [
    "synthetic_classifier = LogisticRegression(max_iter=10000)\n",
    "synthetic_classifier.fit(gen_test_features, gen_test_values)\n",
    "with open(os.path.join('models_2', 'synthetic_classifier.pickle'), 'wb') as f:\n",
    "    pickle.dump(synthetic_classifier, f)\n",
    "\n",
    "# 计算unseen category的预测结果\n",
    "results = synthetic_classifier.predict(test_features)"
   ]
  },
  {
   "cell_type": "code",
   "execution_count": 35,
   "metadata": {},
   "outputs": [
    {
     "name": "stdout",
     "output_type": "stream",
     "text": [
      "acc count: 3536\n",
      "acc count: 7913\n",
      "acc: {7: 1055, 9: 168, 23: 551, 24: 292, 30: 50, 31: 597, 34: 155, 41: 519, 47: 41, 50: 108}\n",
      "test: {7: 1645, 9: 174, 23: 1420, 24: 988, 30: 383, 31: 1202, 34: 310, 41: 630, 47: 215, 50: 946}\n"
     ]
    },
    {
     "data": {
      "text/plain": [
       "([0, 1, 2, 3, 4, 5, 6, 7, 8, 9],\n",
       " [Text(0, 0, 'sheep'),\n",
       "  Text(1, 0, 'dolphin'),\n",
       "  Text(2, 0, 'bat'),\n",
       "  Text(3, 0, 'seal'),\n",
       "  Text(4, 0, 'blue+whale'),\n",
       "  Text(5, 0, 'rat'),\n",
       "  Text(6, 0, 'horse'),\n",
       "  Text(7, 0, 'walrus'),\n",
       "  Text(8, 0, 'giraffe'),\n",
       "  Text(9, 0, 'bobcat')])"
      ]
     },
     "execution_count": 35,
     "metadata": {},
     "output_type": "execute_result"
    },
    {
     "data": {
      "image/png": "[encoded data removed]",
      "text/plain": [
       "<Figure size 640x480 with 1 Axes>"
      ]
     },
     "metadata": {},
     "output_type": "display_data"
    }
   ],
   "source": [
    "print(\"acc count:\", (results==test_labels).sum())\n",
    "print(\"acc count:\", len(test_labels))\n",
    "acc_dict, test_dict = {}, {}\n",
    "for test_value in test_values:\n",
    "    acc_dict[test_value] = test_dict[test_value] = 0\n",
    "for pred, value in zip(results, test_labels):\n",
    "    test_dict[value] += 1\n",
    "    if pred == value:\n",
    "        acc_dict[value] += 1\n",
    "\n",
    "print(\"acc:\", acc_dict)\n",
    "print(\"test:\", test_dict)\n",
    "\n",
    "rate = []\n",
    "acc_count = 0\n",
    "for value in test_values:\n",
    "    rate.append(acc_dict[value]/test_dict[value])\n",
    "    acc_count += acc_dict[value]\n",
    "canvas = plt.figure()\n",
    "plt.cla()\n",
    "plt.bar(test_names, rate)\n",
    "plt.ylim(0,1)\n",
    "plt.xticks(rotation=90)\n",
    "\n"
   ]
  }
 ],
 "metadata": {
  "kernelspec": {
   "display_name": "basic",
   "language": "python",
   "name": "python3"
  },
  "language_info": {
   "codemirror_mode": {
    "name": "ipython",
    "version": 3
   },
   "file_extension": ".py",
   "mimetype": "text/x-python",
   "name": "python",
   "nbconvert_exporter": "python",
   "pygments_lexer": "ipython3",
   "version": "3.11.5"
  }
 },
 "nbformat": 4,
 "nbformat_minor": 2
}
