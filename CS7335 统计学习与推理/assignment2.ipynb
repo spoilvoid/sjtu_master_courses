{
 "cells": [
  {
   "cell_type": "code",
   "execution_count": 2,
   "metadata": {},
   "outputs": [
    {
     "name": "stdout",
     "output_type": "stream",
     "text": [
      "\\(\n",
      "\\)\n",
      "\\[\n",
      "\\]\n",
      "\\.\n",
      "\\|\n",
      "(\n"
     ]
    }
   ],
   "source": [
    "import os\n",
    "import sys\n",
    "import random\n",
    "import numpy as np\n",
    "import scipy.io as scio\n",
    "import matplotlib.pyplot as plt\n",
    "\n",
    "from tqdm import tqdm\n",
    "from sklearn.linear_model import LogisticRegression\n",
    "from sklearn.metrics.pairwise import cosine_similarity\n",
    "\n",
    "import torch\n",
    "import torch.nn as nn\n",
    "import torch.nn.functional as F\n",
    "import torch.nn.init as init\n",
    "for special_character in \"()[].|\":\n",
    "    print(f\"\\\\{special_character}\")\n",
    "regex_string = r\"(\"\n",
    "print(regex_string)"
   ]
  },
  {
   "cell_type": "code",
   "execution_count": 2,
   "metadata": {},
   "outputs": [],
   "source": [
    "def seed_all(seed: int):\n",
    "    random.seed(seed)\n",
    "    np.random.seed(seed)\n",
    "\n",
    "seed = 42\n",
    "seed_all(seed)"
   ]
  },
  {
   "cell_type": "code",
   "execution_count": 3,
   "metadata": {},
   "outputs": [],
   "source": [
    "# 输入特征的读取\n",
    "feature_path = \"AWA2/split/res101.mat\"\n",
    "feature_data = scio.loadmat(feature_path)\n",
    "features = feature_data['features'].transpose(1,0)\n",
    "labels = feature_data['labels'].reshape(-1).tolist()"
   ]
  },
  {
   "cell_type": "code",
   "execution_count": 4,
   "metadata": {},
   "outputs": [
    {
     "name": "stdout",
     "output_type": "stream",
     "text": [
      "(50, 50)\n"
     ]
    }
   ],
   "source": [
    "# 计算相似度矩阵\n",
    "attribute_path = \"AWA2/split/att_splits.mat\"\n",
    "attribute_data = scio.loadmat(attribute_path)\n",
    "attributes = attribute_data['att'].transpose(1,0)\n",
    "similarity_matrix = 1 / (1 + pairwise_distances(attributes, metric='euclidean'))\n",
    "print(similarity_matrix.shape)"
   ]
  }
 ],
 "metadata": {
  "kernelspec": {
   "display_name": "basic",
   "language": "python",
   "name": "python3"
  },
  "language_info": {
   "codemirror_mode": {
    "name": "ipython",
    "version": 3
   },
   "file_extension": ".py",
   "mimetype": "text/x-python",
   "name": "python",
   "nbconvert_exporter": "python",
   "pygments_lexer": "ipython3",
   "version": "3.11.0"
  }
 },
 "nbformat": 4,
 "nbformat_minor": 2
}
