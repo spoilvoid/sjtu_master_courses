{
 "cells": [
  {
   "cell_type": "code",
   "execution_count": 166,
   "metadata": {},
   "outputs": [],
   "source": [
    "import copy"
   ]
  },
  {
   "cell_type": "code",
   "execution_count": 167,
   "metadata": {},
   "outputs": [
    {
     "name": "stdout",
     "output_type": "stream",
     "text": [
      "[[[0.25, 0.25, 0.25, 0.25], [0.25, 0.25, 0.25, 0.25], [0.25, 0.25, 0.25, 0.25], [0.25, 0.25, 0.25, 0.25]], [[0.25, 0.25, 0.25, 0.25], [0.25, 0.25, 0.25, 0.25], [0.25, 0.25, 0.25, 0.25], [0.25, 0.25, 0.25, 0.25]], [[0.25, 0.25, 0.25, 0.25], [0.25, 0.25, 0.25, 0.25], [0.25, 0.25, 0.25, 0.25], [0.25, 0.25, 0.25, 0.25]], [[0.25, 0.25, 0.25, 0.25], [0.25, 0.25, 0.25, 0.25], [0.25, 0.25, 0.25, 0.25], [0.25, 0.25, 0.25, 0.25]]]\n"
     ]
    }
   ],
   "source": [
    "policy_matrix = []\n",
    "for row in range(4):\n",
    "    policy_matrix.append([])\n",
    "    for column in range(4):\n",
    "        policy_matrix[row].append([])\n",
    "        for actionType in range(4):\n",
    "            policy_matrix[row][column].append(0.25)\n",
    "\n",
    "print(policy_matrix)"
   ]
  },
  {
   "cell_type": "code",
   "execution_count": 168,
   "metadata": {},
   "outputs": [],
   "source": [
    "def policy_evaluation(policy_matrix, current_matrix):\n",
    "    tmp_matrix = copy.deepcopy(current_matrix)\n",
    "    for row in range(4):\n",
    "        for column in range(4):\n",
    "            if row == column == 0 or row == column == 3:\n",
    "                continue\n",
    "            north_value = -1 + tmp_matrix[row-1][column] if row > 0 else -1 + tmp_matrix[row][column]\n",
    "            south_value = -1 + tmp_matrix[row+1][column] if row < 3 else -1 + tmp_matrix[row][column]\n",
    "            west_value = -1 + tmp_matrix[row][column-1] if column > 0 else -1 + tmp_matrix[row][column]\n",
    "            east_value = -1 + tmp_matrix[row][column+1] if column < 3 else -1 + tmp_matrix[row][column]\n",
    "            current_matrix[row][column] = (north_value + south_value + west_value + east_value) / 4\n",
    "\n",
    "    return current_matrix"
   ]
  },
  {
   "cell_type": "code",
   "execution_count": 169,
   "metadata": {},
   "outputs": [],
   "source": [
    "def policy_iteration(policy_matrix):\n",
    "    value_matrix = []\n",
    "    for row in range(4):\n",
    "        value_matrix.append([])\n",
    "        for column in range(4):\n",
    "            value_matrix[row].append(0)\n",
    "\n",
    "    last_policy_matrix = copy.deepcopy(policy_matrix)\n",
    "    current_policy_matrix = copy.deepcopy(policy_matrix)\n",
    "    count = 0\n",
    "    while (last_policy_matrix != current_policy_matrix or count == 0):\n",
    "        count += 1\n",
    "        last_policy_matrix = copy.deepcopy(current_policy_matrix)\n",
    "        print(\"policy:\", count)\n",
    "        value_matrix = policy_evaluation(policy_matrix=current_policy_matrix, current_matrix=value_matrix)\n",
    "        for row in range(4):\n",
    "            for column in range(4):\n",
    "                if row == column == 0 or row == column == 3:\n",
    "                    continue\n",
    "                choose_direction = []\n",
    "                max_value = value_matrix[row][column] - 1\n",
    "                if row > 0 and value_matrix[row-1][column] - 1 > max_value:\n",
    "                    choose_direction.append(0)\n",
    "                    max_value = value_matrix[row-1][column] - 1\n",
    "                elif row > 0 and value_matrix[row-1][column] - 1 == max_value:\n",
    "                    choose_direction.append(0)\n",
    "                elif row == 0 and value_matrix[row][column] - 1 == max_value:\n",
    "                    choose_direction.append(0)\n",
    "                if row < 3 and value_matrix[row+1][column] - 1 > max_value:\n",
    "                    choose_direction = [1]\n",
    "                    max_value = value_matrix[row+1][column] - 1\n",
    "                elif row < 3 and value_matrix[row+1][column] - 1 == max_value:\n",
    "                    choose_direction.append(1)\n",
    "                elif row == 3 and value_matrix[row][column] - 1 == max_value:\n",
    "                    choose_direction.append(1)\n",
    "                if column > 0 and value_matrix[row][column-1] - 1 > max_value:\n",
    "                    choose_direction = [2]\n",
    "                    max_value = value_matrix[row][column-1] - 1\n",
    "                elif column > 0 and value_matrix[row][column-1] - 1 == max_value:\n",
    "                    choose_direction.append(2)\n",
    "                elif column == 0 and value_matrix[row][column] - 1 == max_value:\n",
    "                    choose_direction.append(2)\n",
    "                if column < 3 and value_matrix[row][column+1] - 1 > max_value:\n",
    "                    choose_direction = [3]\n",
    "                    max_value = value_matrix[row][column+1] - 1\n",
    "                elif column < 3 and value_matrix[row][column+1] - 1 == max_value:\n",
    "                    choose_direction.append(3)\n",
    "                elif column == 3 and value_matrix[row][column] - 1 == max_value:\n",
    "                    choose_direction.append(3)\n",
    "                for itr in range(4):\n",
    "                    if itr in choose_direction:\n",
    "                        current_policy_matrix[row][column][itr] = 1 / len(choose_direction)\n",
    "                    else:\n",
    "                        current_policy_matrix[row][column][itr] = 0\n",
    "\n",
    "    return current_policy_matrix"
   ]
  },
  {
   "cell_type": "code",
   "execution_count": 170,
   "metadata": {},
   "outputs": [
    {
     "name": "stdout",
     "output_type": "stream",
     "text": [
      "policy: 1\n",
      "policy: 2\n",
      "policy: 3\n",
      "policy: 4\n",
      "[[0.25, 0.25, 0.25, 0.25], [0, 0, 1.0, 0], [0, 0, 1.0, 0], [0, 0.5, 0.5, 0]]\n",
      "[[1.0, 0, 0, 0], [0.5, 0, 0.5, 0], [0, 0.5, 0.5, 0], [0, 1.0, 0, 0]]\n",
      "[[1.0, 0, 0, 0], [0.5, 0, 0, 0.5], [0, 0.5, 0, 0.5], [0, 1.0, 0, 0]]\n",
      "[[0.5, 0, 0, 0.5], [0, 0, 0, 1.0], [0, 0, 0, 1.0], [0.25, 0.25, 0.25, 0.25]]\n"
     ]
    }
   ],
   "source": [
    "optimal_metrics = policy_iteration(policy_matrix=policy_matrix)\n",
    "for row in range(4):\n",
    "    print(optimal_metrics[row])"
   ]
  }
 ],
 "metadata": {
  "kernelspec": {
   "display_name": "base",
   "language": "python",
   "name": "python3"
  },
  "language_info": {
   "codemirror_mode": {
    "name": "ipython",
    "version": 3
   },
   "file_extension": ".py",
   "mimetype": "text/x-python",
   "name": "python",
   "nbconvert_exporter": "python",
   "pygments_lexer": "ipython3",
   "version": "3.9.13"
  },
  "orig_nbformat": 4
 },
 "nbformat": 4,
 "nbformat_minor": 2
}
