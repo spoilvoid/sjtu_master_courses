{
 "cells": [
  {
   "cell_type": "code",
   "execution_count": 7,
   "metadata": {},
   "outputs": [],
   "source": [
    "import copy"
   ]
  },
  {
   "cell_type": "code",
   "execution_count": 8,
   "metadata": {},
   "outputs": [],
   "source": [
    "def value_iteration():\n",
    "    current_matrix = []\n",
    "    for row in range(4):\n",
    "        current_matrix.append([])\n",
    "        for column in range(4):\n",
    "            current_matrix[row].append(0)\n",
    "    last_matrix = copy.deepcopy(current_matrix)\n",
    "    count = 0\n",
    "    print(last_matrix == current_matrix or count == 0)\n",
    "    while (last_matrix != current_matrix or count == 0):\n",
    "        count += 1\n",
    "        last_matrix = copy.deepcopy(current_matrix)\n",
    "        print(\"value:\", count)\n",
    "        for row in range(4):\n",
    "            for column in range(4):\n",
    "                if row == column == 0 or row == column == 3:\n",
    "                    continue\n",
    "                max_value = current_matrix[row][column] - 1\n",
    "                if row > 0 and current_matrix[row-1][column] - 1 > max_value:\n",
    "                    max_value = current_matrix[row-1][column] - 1\n",
    "                if row < 3 and current_matrix[row+1][column] - 1 > max_value:\n",
    "                    max_value = current_matrix[row+1][column] - 1\n",
    "                if column > 0 and current_matrix[row][column-1] - 1 > max_value:\n",
    "                    max_value = current_matrix[row][column-1] - 1\n",
    "                if column < 3 and current_matrix[row][column+1] - 1 > max_value:\n",
    "                    max_value = current_matrix[row][column+1] - 1\n",
    "                current_matrix[row][column] = max_value\n",
    "    \n",
    "    # get policy \n",
    "    policy_matrix = []\n",
    "    for row in range(4):\n",
    "        policy_matrix.append([])\n",
    "        for column in range(4):\n",
    "            policy_matrix[row].append([])\n",
    "            for actionType in range(4):\n",
    "                policy_matrix[row][column].append(0)\n",
    "            if row == column == 0 or row == column == 3:\n",
    "                continue\n",
    "            choose_direction = []\n",
    "            max_value = current_matrix[row][column] - 1\n",
    "            if row > 0 and current_matrix[row-1][column] - 1 > max_value:\n",
    "                choose_direction.append(0)\n",
    "                max_value = current_matrix[row-1][column] - 1\n",
    "            elif row > 0 and current_matrix[row-1][column] - 1 == max_value:\n",
    "                choose_direction.append(0)\n",
    "            if row < 3 and current_matrix[row+1][column] - 1 > max_value:\n",
    "                choose_direction = [1]\n",
    "                max_value = current_matrix[row+1][column] - 1\n",
    "            elif row < 3 and current_matrix[row+1][column] - 1 == max_value:\n",
    "                choose_direction.append(1)\n",
    "            if column > 0 and current_matrix[row][column-1] - 1 > max_value:\n",
    "                choose_direction = [2]\n",
    "                max_value = current_matrix[row][column-1] - 1\n",
    "            elif column > 0 and current_matrix[row][column-1] - 1 == max_value:\n",
    "                choose_direction.append(2)\n",
    "            if column < 3 and current_matrix[row][column+1] - 1 > max_value:\n",
    "                choose_direction = [2]\n",
    "                max_value = current_matrix[row][column+1] - 1\n",
    "            elif column < 3 and current_matrix[row][column+1] - 1 == max_value:\n",
    "                choose_direction.append(3)\n",
    "            for itr in range(4):\n",
    "                if itr in choose_direction:\n",
    "                    policy_matrix[row][column][itr] = 1 / len(choose_direction)\n",
    "                else:\n",
    "                    policy_matrix[row][column][itr] = 0\n",
    "            \n",
    "    return policy_matrix"
   ]
  },
  {
   "cell_type": "code",
   "execution_count": 9,
   "metadata": {},
   "outputs": [
    {
     "name": "stdout",
     "output_type": "stream",
     "text": [
      "True\n",
      "value: 1\n",
      "value: 2\n",
      "value: 3\n",
      "value: 4\n",
      "[[0, 0, 0, 0], [0, 0, 1.0, 0], [0, 0, 1.0, 0], [0, 0.5, 0.5, 0]]\n",
      "[[1.0, 0, 0, 0], [0.5, 0, 0.5, 0], [0.25, 0.25, 0.25, 0.25], [0, 1.0, 0, 0]]\n",
      "[[1.0, 0, 0, 0], [0.25, 0.25, 0.25, 0.25], [0, 0.5, 0, 0.5], [0, 1.0, 0, 0]]\n",
      "[[0.5, 0, 0, 0.5], [0, 0, 1.0, 0], [0, 0, 1.0, 0], [0, 0, 0, 0]]\n"
     ]
    }
   ],
   "source": [
    "optimal_metrics = value_iteration()\n",
    "for row in range(4):\n",
    "    print(optimal_metrics[row])"
   ]
  }
 ],
 "metadata": {
  "kernelspec": {
   "display_name": "base",
   "language": "python",
   "name": "python3"
  },
  "language_info": {
   "codemirror_mode": {
    "name": "ipython",
    "version": 3
   },
   "file_extension": ".py",
   "mimetype": "text/x-python",
   "name": "python",
   "nbconvert_exporter": "python",
   "pygments_lexer": "ipython3",
   "version": "3.9.13"
  },
  "orig_nbformat": 4
 },
 "nbformat": 4,
 "nbformat_minor": 2
}
